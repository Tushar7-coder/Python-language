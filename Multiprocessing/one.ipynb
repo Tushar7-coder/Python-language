{
 "cells": [
  {
   "cell_type": "code",
   "execution_count": 4,
   "metadata": {},
   "outputs": [
    {
     "name": "stdout",
     "output_type": "stream",
     "text": [
      "This is my main program\n"
     ]
    }
   ],
   "source": [
    "import multiprocessing\n",
    "def test():\n",
    "\tprint(\"this is my multiprocessing prog\")\n",
    "if __name__ == '__main__':\n",
    "\tm = multiprocessing.Process(target=test)\n",
    "\tprint(\"This is my main program\")\n",
    "\tm.start()\n",
    "\tm.join()\t"
   ]
  },
  {
   "cell_type": "code",
   "execution_count": 3,
   "metadata": {},
   "outputs": [
    {
     "name": "stdout",
     "output_type": "stream",
     "text": [
      "this is my multiprocessing prog\n"
     ]
    }
   ],
   "source": [
    "test()"
   ]
  },
  {
   "cell_type": "code",
   "execution_count": null,
   "metadata": {},
   "outputs": [],
   "source": [
    "def square(n):\n",
    "\treturn n**2\n",
    "\n",
    "if __name__ == \"__main__\":\n",
    "\twith multiprocessing.Pool(processes =4) as pool:\n",
    "\t\tout = pool.map(square,[1,2,3,4,5,6,7,8,9])\n",
    "\t\tprint(out)"
   ]
  }
 ],
 "metadata": {
  "kernelspec": {
   "display_name": "Python 3",
   "language": "python",
   "name": "python3"
  },
  "language_info": {
   "codemirror_mode": {
    "name": "ipython",
    "version": 3
   },
   "file_extension": ".py",
   "mimetype": "text/x-python",
   "name": "python",
   "nbconvert_exporter": "python",
   "pygments_lexer": "ipython3",
   "version": "3.12.0"
  }
 },
 "nbformat": 4,
 "nbformat_minor": 2
}
