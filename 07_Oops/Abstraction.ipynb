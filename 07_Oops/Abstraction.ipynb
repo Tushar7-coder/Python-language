{
 "cells": [
  {
   "cell_type": "code",
   "execution_count": 1,
   "metadata": {},
   "outputs": [],
   "source": [
    "import abc\n",
    "class pwskills:\n",
    "\t@abc.abstractmethod\n",
    "\tdef student_details(Self):\n",
    "\t\tpass\n",
    "\t@abc.abstractmethod\n",
    "\tdef student_assignment(self):\n",
    "\t\tpass\n",
    "\t@abc.abstractmethod\n",
    "\tdef student_mark(self):\n",
    "\t\tpass\n"
   ]
  },
  {
   "cell_type": "code",
   "execution_count": 2,
   "metadata": {},
   "outputs": [],
   "source": [
    "class student_details(pwskills):\n",
    "\tdef student_details(Self):\n",
    "\t\treturn \"this is a method for taking student details\"\n",
    "\tdef student_assignment(self):\n",
    "\t\treturn \"this is a method for assignmernt of student\""
   ]
  },
  {
   "cell_type": "code",
   "execution_count": null,
   "metadata": {},
   "outputs": [],
   "source": []
  }
 ],
 "metadata": {
  "kernelspec": {
   "display_name": "Python 3",
   "language": "python",
   "name": "python3"
  },
  "language_info": {
   "codemirror_mode": {
    "name": "ipython",
    "version": 3
   },
   "file_extension": ".py",
   "mimetype": "text/x-python",
   "name": "python",
   "nbconvert_exporter": "python",
   "pygments_lexer": "ipython3",
   "version": "3.12.0"
  }
 },
 "nbformat": 4,
 "nbformat_minor": 2
}
