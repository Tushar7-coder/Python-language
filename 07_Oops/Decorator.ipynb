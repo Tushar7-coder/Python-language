{
 "cells": [
  {
   "cell_type": "code",
   "execution_count": 1,
   "metadata": {},
   "outputs": [],
   "source": [
    "class pwskills:\n",
    "\tdef __init__(self,name,email):\n",
    "\t\tself.name = name\n",
    "\t\tself.email=email\n",
    "\tdef student_details(self):\n",
    "\t\tprint(self.name,self.email)"
   ]
  },
  {
   "cell_type": "code",
   "execution_count": 2,
   "metadata": {},
   "outputs": [],
   "source": [
    "pw= pwskills(\"Tushar\",\"tushar@gmail.com\")\n"
   ]
  },
  {
   "cell_type": "code",
   "execution_count": 3,
   "metadata": {},
   "outputs": [
    {
     "name": "stdout",
     "output_type": "stream",
     "text": [
      "Tushar tushar@gmail.com\n"
     ]
    }
   ],
   "source": [
    "pw.student_details()"
   ]
  },
  {
   "cell_type": "code",
   "execution_count": 5,
   "metadata": {},
   "outputs": [],
   "source": [
    "class pwskills1:\n",
    "\tdef __init__(self,name,email):\n",
    "\t\tself.name = name\n",
    "\t\tself.email=email\n",
    "\t@classmethod\t\n",
    "\tdef details(cls,name,email):\n",
    "\t\treturn cls(name,email)\t\n",
    "\tdef student_details(self):\n",
    "\t\tprint(self.name,self.email)"
   ]
  },
  {
   "cell_type": "code",
   "execution_count": 8,
   "metadata": {},
   "outputs": [],
   "source": [
    "pw1 = pwskills1.details(\"Liku\",\"likutusar@gmail.com\")"
   ]
  },
  {
   "cell_type": "code",
   "execution_count": 11,
   "metadata": {},
   "outputs": [
    {
     "data": {
      "text/plain": [
       "'Liku'"
      ]
     },
     "execution_count": 11,
     "metadata": {},
     "output_type": "execute_result"
    }
   ],
   "source": [
    "pw1.name"
   ]
  },
  {
   "cell_type": "code",
   "execution_count": 12,
   "metadata": {},
   "outputs": [
    {
     "name": "stdout",
     "output_type": "stream",
     "text": [
      "Liku likutusar@gmail.com\n"
     ]
    }
   ],
   "source": [
    "pw1.student_details()"
   ]
  },
  {
   "cell_type": "code",
   "execution_count": 22,
   "metadata": {},
   "outputs": [],
   "source": [
    "class pwskills2:\n",
    "\tmobile_num = 8917355202\n",
    "\tdef __init__(self,name,email):\n",
    "\t\tself.name = name\n",
    "\t\tself.email=email\n",
    "\t@classmethod\t\n",
    "\tdef change_mobile_num(cls,mobile):\n",
    "\t\tpwskills2.mobile_num=mobile\t\n",
    "\t@classmethod\t\n",
    "\tdef details(cls,name,email):\n",
    "\t\treturn cls(name,email)\t\n",
    "\tdef student_details(self):\n",
    "\t\tprint(self.name,self.email,pwskills2.mobile_num)"
   ]
  },
  {
   "cell_type": "code",
   "execution_count": 23,
   "metadata": {},
   "outputs": [],
   "source": [
    "pwskills2.change_mobile_num(8480853146)"
   ]
  },
  {
   "cell_type": "code",
   "execution_count": 24,
   "metadata": {},
   "outputs": [
    {
     "data": {
      "text/plain": [
       "8480853146"
      ]
     },
     "execution_count": 24,
     "metadata": {},
     "output_type": "execute_result"
    }
   ],
   "source": [
    "pwskills2.mobile_num"
   ]
  },
  {
   "cell_type": "code",
   "execution_count": 27,
   "metadata": {},
   "outputs": [],
   "source": [
    "pw_obj=pwskills2(\"Tusharkanta\",\"tusharkantabihari4474@gmail.com\")"
   ]
  },
  {
   "cell_type": "code",
   "execution_count": 31,
   "metadata": {},
   "outputs": [
    {
     "name": "stdout",
     "output_type": "stream",
     "text": [
      "Tusharkanta tusharkantabihari4474@gmail.com 8480853146\n"
     ]
    }
   ],
   "source": [
    "pw_obj.student_details()"
   ]
  },
  {
   "cell_type": "code",
   "execution_count": 32,
   "metadata": {},
   "outputs": [],
   "source": []
  },
  {
   "cell_type": "code",
   "execution_count": 34,
   "metadata": {},
   "outputs": [],
   "source": [
    "class pwskills3:\n",
    "\tmobile_num = 8917355202\n",
    "\tdef __init__(self,name,email):\n",
    "\t\tself.name = name\n",
    "\t\tself.email=email\n",
    "\t@classmethod\t\n",
    "\tdef change_mobile_num(cls,mobile):\n",
    "\t\tpwskills3.mobile_num=mobile\t\n",
    "\t@classmethod\t\n",
    "\tdef details(cls,name,email):\n",
    "\t\treturn cls(name,email)\t\n",
    "\tdef student_details(self):\n",
    "\t\tprint(self.name,self.email,pwskills3.mobile_num)"
   ]
  },
  {
   "cell_type": "code",
   "execution_count": 35,
   "metadata": {},
   "outputs": [],
   "source": [
    "def course_details(cls,course_name):\n",
    "\tprint(\"course name is \",course_name)"
   ]
  },
  {
   "cell_type": "code",
   "execution_count": 36,
   "metadata": {},
   "outputs": [],
   "source": [
    "pwskills3.coutse_details = classmethod(course_details)"
   ]
  },
  {
   "cell_type": "code",
   "execution_count": 37,
   "metadata": {},
   "outputs": [
    {
     "ename": "AttributeError",
     "evalue": "type object 'pwskills3' has no attribute 'course_details'",
     "output_type": "error",
     "traceback": [
      "\u001b[1;31m---------------------------------------------------------------------------\u001b[0m",
      "\u001b[1;31mAttributeError\u001b[0m                            Traceback (most recent call last)",
      "Cell \u001b[1;32mIn[37], line 1\u001b[0m\n\u001b[1;32m----> 1\u001b[0m \u001b[43mpwskills3\u001b[49m\u001b[38;5;241;43m.\u001b[39;49m\u001b[43m \u001b[49m\u001b[43mcourse_details\u001b[49m(\u001b[38;5;124m\"\u001b[39m\u001b[38;5;124mdata science\u001b[39m\u001b[38;5;124m\"\u001b[39m)\n",
      "\u001b[1;31mAttributeError\u001b[0m: type object 'pwskills3' has no attribute 'course_details'"
     ]
    }
   ],
   "source": [
    "pwskills3. course_details(\"data science\")"
   ]
  },
  {
   "cell_type": "code",
   "execution_count": null,
   "metadata": {},
   "outputs": [],
   "source": []
  }
 ],
 "metadata": {
  "kernelspec": {
   "display_name": "Python 3",
   "language": "python",
   "name": "python3"
  },
  "language_info": {
   "codemirror_mode": {
    "name": "ipython",
    "version": 3
   },
   "file_extension": ".py",
   "mimetype": "text/x-python",
   "name": "python",
   "nbconvert_exporter": "python",
   "pygments_lexer": "ipython3",
   "version": "3.12.0"
  }
 },
 "nbformat": 4,
 "nbformat_minor": 2
}
