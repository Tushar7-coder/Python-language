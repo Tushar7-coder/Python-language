{
 "cells": [
  {
   "cell_type": "code",
   "execution_count": 1,
   "metadata": {},
   "outputs": [],
   "source": [
    "x=(\"Masala chai\",\"Lemon tea\",\"Ginger tea\")"
   ]
  },
  {
   "cell_type": "code",
   "execution_count": 2,
   "metadata": {},
   "outputs": [],
   "source": [
    "y = enumerate(x)"
   ]
  },
  {
   "cell_type": "code",
   "execution_count": 3,
   "metadata": {},
   "outputs": [
    {
     "data": {
      "text/plain": [
       "<enumerate at 0x18746fb5f30>"
      ]
     },
     "execution_count": 3,
     "metadata": {},
     "output_type": "execute_result"
    }
   ],
   "source": [
    "y"
   ]
  },
  {
   "cell_type": "code",
   "execution_count": 4,
   "metadata": {},
   "outputs": [
    {
     "data": {
      "text/plain": [
       "[(0, 'Masala chai'), (1, 'Lemon tea'), (2, 'Ginger tea')]"
      ]
     },
     "execution_count": 4,
     "metadata": {},
     "output_type": "execute_result"
    }
   ],
   "source": [
    "list(y)"
   ]
  },
  {
   "cell_type": "code",
   "execution_count": 6,
   "metadata": {},
   "outputs": [],
   "source": [
    "file = open(\"test.py\",'w')"
   ]
  },
  {
   "cell_type": "code",
   "execution_count": 1,
   "metadata": {},
   "outputs": [],
   "source": [
    "file = open(\"youtube.txt\",'w')"
   ]
  },
  {
   "cell_type": "code",
   "execution_count": 2,
   "metadata": {},
   "outputs": [],
   "source": [
    "try :\n",
    "\tfile.write(\"chai aur code\")\n",
    "finally:\n",
    "\tfile.close()\t"
   ]
  },
  {
   "cell_type": "code",
   "execution_count": 3,
   "metadata": {},
   "outputs": [],
   "source": [
    "with open(\"youtube.txt\",'w') as file:\n",
    "\tfile.write(\"chai aur python\")"
   ]
  },
  {
   "cell_type": "code",
   "execution_count": 4,
   "metadata": {},
   "outputs": [],
   "source": [
    "import json\n",
    "def load_data(videos):\n",
    "\ttry :\n",
    "\t\twith open(\"yotube.txt\",'r') as file:\n",
    "\t\t\tjson.load(file)\n",
    "\texcept FileNotFoundError:\n",
    "\t\treturn []\n",
    "def save_data_helper(videos):\n",
    "\twith open(\"youtube.txt\",'w')as file:\n",
    "\t\tjson.dump(videos,file)\t\n",
    "def list_all_videos(videos):\n",
    "\tfor index,video in enumerate(videos,start=1):\n",
    "\t\tprint(f\"{index}.\")\n",
    "\n",
    "def add_video(videos):\n",
    "\tname = input(\"Enter video name \")\n",
    "\ttime = input(\"Enter video time \")\n",
    "\tvideos.append({'name':name,\"time\":time})\n",
    "\tsave_data_helper(videos)\n",
    "\n",
    "def update_video(videos):\n",
    "\tpass\n",
    "def delete_video(video):\n",
    "\tpass\n",
    "def main():\n",
    "\tvideos =[]\n",
    "\twhile True:\n",
    "\t\tprint(\"\\n Youtube manager \")\n",
    "\t\tprint(\"1.List all youtube video \")\n",
    "\t\tprint(\"2.Add a youtube video \")\n",
    "\t\tprint(\"3.Update a youtube video details \")\n",
    "\t\tprint(\"4.Delete a youtubevideo \")\n",
    "\t\tprint(\"5.Exit the app \")\n",
    "\t\tchoice = input(\"Enter your choice \")\n",
    "\t\tprint(videos)\n",
    "\t\tmatch choice :\n",
    "\t\t\tcase '1':\n",
    "\t\t\t\tlist_all_videos(videos)\n",
    "\t\t\tcase '2':\n",
    "\t\t\t\tadd_video(videos)\n",
    "\t\t\tcase '3':\n",
    "\t\t\t\tupdate_video(videos)\n",
    "\t\t\tcase '4':\n",
    "\t\t\t\tdelete_video('videos')\n",
    "\t\t\tcase '5':\n",
    "\t\t\t\tbreak\n",
    "\t\t\tcase _:\n",
    "\t\t\t\tprint(\"Invalid choice\")\t\n",
    "\n",
    "if __name__ == \"__main()__\":\n",
    "\tmain()\n",
    "\n"
   ]
  },
  {
   "cell_type": "code",
   "execution_count": null,
   "metadata": {},
   "outputs": [],
   "source": []
  }
 ],
 "metadata": {
  "kernelspec": {
   "display_name": "Python 3",
   "language": "python",
   "name": "python3"
  },
  "language_info": {
   "codemirror_mode": {
    "name": "ipython",
    "version": 3
   },
   "file_extension": ".py",
   "mimetype": "text/x-python",
   "name": "python",
   "nbconvert_exporter": "python",
   "pygments_lexer": "ipython3",
   "version": "3.12.0"
  }
 },
 "nbformat": 4,
 "nbformat_minor": 2
}
