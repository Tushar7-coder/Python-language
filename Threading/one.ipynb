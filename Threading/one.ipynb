{
 "cells": [
  {
   "cell_type": "code",
   "execution_count": 1,
   "metadata": {},
   "outputs": [],
   "source": [
    "import threading"
   ]
  },
  {
   "cell_type": "code",
   "execution_count": 2,
   "metadata": {},
   "outputs": [],
   "source": [
    "def test(id):\n",
    "\tprint(\"prog start %d\"% id)"
   ]
  },
  {
   "cell_type": "code",
   "execution_count": 3,
   "metadata": {},
   "outputs": [
    {
     "name": "stdout",
     "output_type": "stream",
     "text": [
      "prog start 23\n"
     ]
    }
   ],
   "source": [
    "test(23)"
   ]
  },
  {
   "cell_type": "code",
   "execution_count": 7,
   "metadata": {},
   "outputs": [],
   "source": [
    "Thread = [threading.Thread(target=test,args=(i)) for i in range(10)]"
   ]
  },
  {
   "cell_type": "code",
   "execution_count": 10,
   "metadata": {},
   "outputs": [
    {
     "data": {
      "text/plain": [
       "[<Thread(Thread-15 (test), stopped 6168)>,\n",
       " <Thread(Thread-16 (test), stopped 15940)>,\n",
       " <Thread(Thread-17 (test), stopped 15012)>,\n",
       " <Thread(Thread-18 (test), stopped 20848)>,\n",
       " <Thread(Thread-19 (test), stopped 17660)>,\n",
       " <Thread(Thread-20 (test), stopped 20840)>,\n",
       " <Thread(Thread-21 (test), stopped 15200)>,\n",
       " <Thread(Thread-22 (test), stopped 384)>,\n",
       " <Thread(Thread-23 (test), stopped 5036)>,\n",
       " <Thread(Thread-24 (test), stopped 8272)>]"
      ]
     },
     "execution_count": 10,
     "metadata": {},
     "output_type": "execute_result"
    }
   ],
   "source": [
    "Thread"
   ]
  },
  {
   "cell_type": "code",
   "execution_count": 8,
   "metadata": {},
   "outputs": [
    {
     "name": "stderr",
     "output_type": "stream",
     "text": [
      "Exception in thread Thread-15 (test):\n",
      "Traceback (most recent call last):\n",
      "  File \"c:\\Python312\\Lib\\threading.py\", line 1052, in _bootstrap_inner\n",
      "Exception in thread Thread-16 (test):\n",
      "Traceback (most recent call last):\n",
      "  File \"c:\\Python312\\Lib\\threading.py\", line 1052, in _bootstrap_inner\n",
      "    self.run()\n",
      "  File \"C:\\Users\\ASUS\\AppData\\Roaming\\Python\\Python312\\site-packages\\ipykernel\\ipkernel.py\", line 761, in run_closure\n",
      "    _threading_Thread_run(self)\n",
      "  File \"c:\\Python312\\Lib\\threading.py\", line 989, in run\n",
      "Exception in thread Thread-17 (test):\n",
      "Traceback (most recent call last):\n",
      "  File \"c:\\Python312\\Lib\\threading.py\", line 1052, in _bootstrap_inner\n",
      "    self.run()\n",
      "  File \"C:\\Users\\ASUS\\AppData\\Roaming\\Python\\Python312\\site-packages\\ipykernel\\ipkernel.py\", line 761, in run_closure\n",
      "Exception in thread Thread-18 (test):\n",
      "Traceback (most recent call last):\n",
      "  File \"c:\\Python312\\Lib\\threading.py\", line 1052, in _bootstrap_inner\n",
      "    _threading_Thread_run(self)\n",
      "  File \"c:\\Python312\\Lib\\threading.py\", line 989, in run\n",
      "    self.run()\n",
      "  File \"C:\\Users\\ASUS\\AppData\\Roaming\\Python\\Python312\\site-packages\\ipykernel\\ipkernel.py\", line 761, in run_closure\n",
      "Exception in thread Thread-19 (test):\n",
      "Traceback (most recent call last):\n",
      "  File \"c:\\Python312\\Lib\\threading.py\", line 1052, in _bootstrap_inner\n",
      "    self._target(*self._args, **self._kwargs)\n",
      "TypeError: __main__.test() argument after * must be an iterable, not int\n",
      "    self.run()\n",
      "  File \"C:\\Users\\ASUS\\AppData\\Roaming\\Python\\Python312\\site-packages\\ipykernel\\ipkernel.py\", line 761, in run_closure\n",
      "Exception in thread Thread-20 (test):\n",
      "Traceback (most recent call last):\n",
      "  File \"c:\\Python312\\Lib\\threading.py\", line 1052, in _bootstrap_inner\n",
      "    _threading_Thread_run(self)\n",
      "  File \"c:\\Python312\\Lib\\threading.py\", line 989, in run\n",
      "    self._target(*self._args, **self._kwargs)\n",
      "TypeError: __main__.test() argument after * must be an iterable, not int\n",
      "Exception in thread Thread-21 (test):\n",
      "Traceback (most recent call last):\n",
      "  File \"c:\\Python312\\Lib\\threading.py\", line 1052, in _bootstrap_inner\n",
      "    _threading_Thread_run(self)\n",
      "  File \"c:\\Python312\\Lib\\threading.py\", line 989, in run\n",
      "Exception in thread Thread-22 (test):\n",
      "Traceback (most recent call last):\n",
      "  File \"c:\\Python312\\Lib\\threading.py\", line 1052, in _bootstrap_inner\n",
      "    self.run()\n",
      "  File \"C:\\Users\\ASUS\\AppData\\Roaming\\Python\\Python312\\site-packages\\ipykernel\\ipkernel.py\", line 761, in run_closure\n",
      "    self.run()\n",
      "  File \"C:\\Users\\ASUS\\AppData\\Roaming\\Python\\Python312\\site-packages\\ipykernel\\ipkernel.py\", line 761, in run_closure\n",
      "Exception in thread Thread-23 (test):\n",
      "Traceback (most recent call last):\n",
      "  File \"c:\\Python312\\Lib\\threading.py\", line 1052, in _bootstrap_inner\n",
      "Exception in thread Thread-24 (test):\n",
      "Traceback (most recent call last):\n",
      "  File \"c:\\Python312\\Lib\\threading.py\", line 1052, in _bootstrap_inner\n",
      "    self._target(*self._args, **self._kwargs)\n",
      "TypeError: __main__.test() argument after * must be an iterable, not int\n",
      "    _threading_Thread_run(self)\n",
      "  File \"c:\\Python312\\Lib\\threading.py\", line 989, in run\n",
      "    self.run()\n",
      "  File \"C:\\Users\\ASUS\\AppData\\Roaming\\Python\\Python312\\site-packages\\ipykernel\\ipkernel.py\", line 761, in run_closure\n",
      "    self.run()\n",
      "  File \"C:\\Users\\ASUS\\AppData\\Roaming\\Python\\Python312\\site-packages\\ipykernel\\ipkernel.py\", line 761, in run_closure\n",
      "    self._target(*self._args, **self._kwargs)\n",
      "TypeError: __main__.test() argument after * must be an iterable, not int\n",
      "    self.run()\n",
      "  File \"C:\\Users\\ASUS\\AppData\\Roaming\\Python\\Python312\\site-packages\\ipykernel\\ipkernel.py\", line 761, in run_closure\n",
      "    self._target(*self._args, **self._kwargs)\n",
      "TypeError: __main__.test() argument after * must be an iterable, not int\n",
      "    _threading_Thread_run(self)\n",
      "  File \"c:\\Python312\\Lib\\threading.py\", line 989, in run\n",
      "    _threading_Thread_run(self)\n",
      "  File \"c:\\Python312\\Lib\\threading.py\", line 989, in run\n",
      "    _threading_Thread_run(self)\n",
      "  File \"c:\\Python312\\Lib\\threading.py\", line 989, in run\n",
      "    _threading_Thread_run(self)\n",
      "  File \"c:\\Python312\\Lib\\threading.py\", line 989, in run\n",
      "    self._target(*self._args, **self._kwargs)\n",
      "TypeError: __main__.test() argument after * must be an iterable, not int\n",
      "    self.run()\n",
      "  File \"C:\\Users\\ASUS\\AppData\\Roaming\\Python\\Python312\\site-packages\\ipykernel\\ipkernel.py\", line 761, in run_closure\n",
      "    self._target(*self._args, **self._kwargs)\n",
      "TypeError: __main__.test() argument after * must be an iterable, not int\n",
      "    self._target(*self._args, **self._kwargs)\n",
      "TypeError: __main__.test() argument after * must be an iterable, not int\n",
      "    self._target(*self._args, **self._kwargs)\n",
      "TypeError: __main__.test() argument after * must be an iterable, not int\n",
      "    _threading_Thread_run(self)\n",
      "  File \"c:\\Python312\\Lib\\threading.py\", line 989, in run\n",
      "    self._target(*self._args, **self._kwargs)\n",
      "TypeError: __main__.test() argument after * must be an iterable, not int\n"
     ]
    }
   ],
   "source": [
    "for t in Thread:\n",
    "\tt.start()"
   ]
  },
  {
   "cell_type": "code",
   "execution_count": 11,
   "metadata": {},
   "outputs": [
    {
     "data": {
      "text/plain": [
       "[<Thread(Thread-15 (test), stopped 6168)>,\n",
       " <Thread(Thread-16 (test), stopped 15940)>,\n",
       " <Thread(Thread-17 (test), stopped 15012)>,\n",
       " <Thread(Thread-18 (test), stopped 20848)>,\n",
       " <Thread(Thread-19 (test), stopped 17660)>,\n",
       " <Thread(Thread-20 (test), stopped 20840)>,\n",
       " <Thread(Thread-21 (test), stopped 15200)>,\n",
       " <Thread(Thread-22 (test), stopped 384)>,\n",
       " <Thread(Thread-23 (test), stopped 5036)>,\n",
       " <Thread(Thread-24 (test), stopped 8272)>]"
      ]
     },
     "execution_count": 11,
     "metadata": {},
     "output_type": "execute_result"
    }
   ],
   "source": [
    "Thread"
   ]
  },
  {
   "cell_type": "code",
   "execution_count": 12,
   "metadata": {},
   "outputs": [
    {
     "data": {
      "text/plain": [
       "1762162512704"
      ]
     },
     "execution_count": 12,
     "metadata": {},
     "output_type": "execute_result"
    }
   ],
   "source": [
    "\n",
    "id(Thread)"
   ]
  },
  {
   "cell_type": "code",
   "execution_count": 18,
   "metadata": {},
   "outputs": [],
   "source": [
    "import threading\n",
    "import urllib.request\n",
    "\n",
    "def file_download(url,filename):\n",
    "\turllib.request.urlretrieve(url,filename)"
   ]
  },
  {
   "cell_type": "code",
   "execution_count": 19,
   "metadata": {},
   "outputs": [],
   "source": [
    "file_download(\"https://github.com/Tushar7-coder/Algorithm-java/blob/main/BinarySEarchDecendingOrder.java\",\"file.txt\")"
   ]
  },
  {
   "cell_type": "code",
   "execution_count": 20,
   "metadata": {},
   "outputs": [],
   "source": [
    "file_download(\"https://github.com/Tushar7-coder/donut._web/blob/main/index.html\",\"file1.txt\")"
   ]
  },
  {
   "cell_type": "code",
   "execution_count": 22,
   "metadata": {},
   "outputs": [],
   "source": [
    "url_list = [\"https://raw.githubusercontent.com/Tushar7-coder/Python_pw/main/01_assignment_2nd_feb_2023.ipynb\",\"https://raw.githubusercontent.com/Tushar7-coder/Python_pw/main/02_assignment_3rd_feb_2023.ipynb\",\"https://raw.githubusercontent.com/Tushar7-coder/Python_pw/main/03_assignment_4th_feb_.ipynb\"]\n"
   ]
  },
  {
   "cell_type": "code",
   "execution_count": 23,
   "metadata": {},
   "outputs": [],
   "source": [
    "file_name =[\"file1.txt\",\"file2.txt\",\"filw3.txt\"]"
   ]
  },
  {
   "cell_type": "code",
   "execution_count": 25,
   "metadata": {},
   "outputs": [],
   "source": [
    "thread = [threading.Thread(target=file_download,args=(url_list[i],file_name[i])) for i in range(len(url_list))]"
   ]
  },
  {
   "cell_type": "code",
   "execution_count": 26,
   "metadata": {},
   "outputs": [
    {
     "data": {
      "text/plain": [
       "[<Thread(Thread-25 (file_download), initial)>,\n",
       " <Thread(Thread-26 (file_download), initial)>,\n",
       " <Thread(Thread-27 (file_download), initial)>]"
      ]
     },
     "execution_count": 26,
     "metadata": {},
     "output_type": "execute_result"
    }
   ],
   "source": [
    "thread"
   ]
  },
  {
   "cell_type": "code",
   "execution_count": 27,
   "metadata": {},
   "outputs": [],
   "source": [
    "import time"
   ]
  },
  {
   "cell_type": "code",
   "execution_count": 33,
   "metadata": {},
   "outputs": [],
   "source": [
    "def test1(id):\n",
    "\tfor i in range(10):\n",
    "\t\tprint(\"test1 %d printing %d\" %(id,i))\n",
    "\t\ttime.sleep(i)"
   ]
  },
  {
   "cell_type": "code",
   "execution_count": 35,
   "metadata": {},
   "outputs": [
    {
     "name": "stdout",
     "output_type": "stream",
     "text": [
      "test1 2 printing 0\n",
      "test1 2 printing 1\n",
      "test1 2 printing 2\n",
      "test1 2 printing 3\n",
      "test1 2 printing 4\n",
      "test1 2 printing 5\n",
      "test1 2 printing 6\n",
      "test1 2 printing 7\n",
      "test1 2 printing 8\n",
      "test1 2 printing 9\n"
     ]
    }
   ],
   "source": [
    "test1(2)"
   ]
  },
  {
   "cell_type": "code",
   "execution_count": 36,
   "metadata": {},
   "outputs": [],
   "source": [
    "thread =[threading.Thread(target=test,args=(i)) for i in range(3)]"
   ]
  },
  {
   "cell_type": "code",
   "execution_count": 38,
   "metadata": {},
   "outputs": [
    {
     "data": {
      "text/plain": [
       "[<Thread(Thread-28 (test), stopped 17096)>,\n",
       " <Thread(Thread-29 (test), stopped 26052)>,\n",
       " <Thread(Thread-30 (test), stopped 25620)>]"
      ]
     },
     "execution_count": 38,
     "metadata": {},
     "output_type": "execute_result"
    }
   ],
   "source": [
    "thread"
   ]
  },
  {
   "cell_type": "code",
   "execution_count": 40,
   "metadata": {},
   "outputs": [],
   "source": [
    "shared_var = 0\n",
    "lock_var= threading.Lock()"
   ]
  },
  {
   "cell_type": "code",
   "execution_count": 45,
   "metadata": {},
   "outputs": [
    {
     "data": {
      "text/plain": [
       "[<Thread(Thread-37 (test2), initial)>,\n",
       " <Thread(Thread-38 (test2), initial)>,\n",
       " <Thread(Thread-39 (test2), initial)>]"
      ]
     },
     "execution_count": 45,
     "metadata": {},
     "output_type": "execute_result"
    }
   ],
   "source": [
    "def test2(id):\n",
    "\tglobal  shared_var\n",
    "\twith lock_var :\n",
    "\t\tshared_var+1\n",
    "\t\tprint(\"test2 id is %d has increased the shared variable by %d\"%(id,shared_var))\n",
    "\t\ttime.sleep(1)\n",
    "thread3 = [threading.Thread(target=test2,args=(id,)) for i in range(3)]\n",
    "thread3"
   ]
  },
  {
   "cell_type": "code",
   "execution_count": 42,
   "metadata": {},
   "outputs": [],
   "source": []
  },
  {
   "cell_type": "code",
   "execution_count": 43,
   "metadata": {},
   "outputs": [
    {
     "data": {
      "text/plain": [
       "[<Thread(Thread-31 (test2), initial)>,\n",
       " <Thread(Thread-32 (test2), initial)>,\n",
       " <Thread(Thread-33 (test2), initial)>]"
      ]
     },
     "execution_count": 43,
     "metadata": {},
     "output_type": "execute_result"
    }
   ],
   "source": [
    "thread3"
   ]
  },
  {
   "cell_type": "code",
   "execution_count": null,
   "metadata": {},
   "outputs": [],
   "source": []
  }
 ],
 "metadata": {
  "kernelspec": {
   "display_name": "Python 3",
   "language": "python",
   "name": "python3"
  },
  "language_info": {
   "codemirror_mode": {
    "name": "ipython",
    "version": 3
   },
   "file_extension": ".py",
   "mimetype": "text/x-python",
   "name": "python",
   "nbconvert_exporter": "python",
   "pygments_lexer": "ipython3",
   "version": "3.12.0"
  }
 },
 "nbformat": 4,
 "nbformat_minor": 2
}
